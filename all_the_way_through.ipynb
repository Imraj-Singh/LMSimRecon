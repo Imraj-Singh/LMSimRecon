{
 "cells": [
  {
   "cell_type": "code",
   "execution_count": null,
   "metadata": {},
   "outputs": [],
   "source": [
    "print(\"TAKEN FROM GEORG'S REPO, AND LUKES!\")\n",
    "import sys\n",
    "sys.path.append(\"/workspaces/LMSimRecon/PETSIRD/python\")\n",
    "import array_api_compat.numpy as xp\n",
    "import parallelproj\n",
    "import matplotlib.pyplot as plt\n",
    "from array_api_compat import to_device\n",
    "from generate_fake_list_mode import convert_to_list_mode, get_fwd_bwd\n",
    "dev = \"cpu\"\n",
    "image_shape = (128, 128)\n",
    "voxel_size = (2.0, 2.0)\n",
    "image_origin = (-127.0, -127.0)\n",
    "radial_positions = to_device(xp.linspace(-128, 128, 200), dev)\n",
    "view_angles = to_device(xp.linspace(0, xp.pi, 180, endpoint=False), dev)\n",
    "radius = 200.0\n",
    "proj2d = parallelproj.ParallelViewProjector2D(\n",
    "    image_shape, radial_positions, view_angles, radius, image_origin, voxel_size\n",
    ")\n",
    "img = to_device(xp.zeros(proj2d.in_shape, dtype=xp.float32), dev)\n",
    "img[32:96, 32:64] = 1.0\n",
    "img_gt = img.copy()\n",
    "img_fwd = proj2d(img)\n",
    "img_fwd_back = proj2d.adjoint(img_fwd)\n",
    "x_start = proj2d._xstart.reshape(-1, 3)\n",
    "x_end = proj2d._xend.reshape(-1, 3)\n",
    "mean_data = img_fwd.ravel()\n",
    "lm, idx_coord_lookup = convert_to_list_mode(x_start, x_end, mean_data, scale_factor=1000.0)\n",
    "\n",
    "image_shape = (1, 128, 128)\n",
    "voxel_size = (1.0, 2.0, 2.0)\n",
    "image_origin = (0.0, -127.0, -127.0)\n",
    "fwd, bwd = get_fwd_bwd(image_origin, voxel_size, image_shape)\n",
    "\n",
    "start_detector = idx_coord_lookup[lm[0]]\n",
    "end_detector = idx_coord_lookup[lm[1]]\n",
    "img = parallelproj.joseph3d_back(\n",
    "            start_detector,\n",
    "            end_detector,\n",
    "            image_shape,\n",
    "            image_origin,\n",
    "            voxel_size,\n",
    "            xp.ones(start_detector.shape[0], dtype=xp.float32),\n",
    "        )\n",
    "plt.imshow(img[0])\n"
   ]
  },
  {
   "cell_type": "code",
   "execution_count": null,
   "metadata": {},
   "outputs": [],
   "source": []
  },
  {
   "cell_type": "code",
   "execution_count": null,
   "metadata": {},
   "outputs": [],
   "source": [
    "import prd\n",
    "detectors = []\n",
    "for i in range(idx_coord_lookup.shape[0]):\n",
    "    detectors.append(\n",
    "        prd.Detector(\n",
    "            id = i,\n",
    "            x = idx_coord_lookup[i, 0],\n",
    "            y = idx_coord_lookup[i, 1],\n",
    "            z = idx_coord_lookup[i, 2]\n",
    "        )\n",
    "    )\n",
    "scanner_information = prd.ScannerInformation(detectors=detectors)\n",
    "events = []\n",
    "for i in range(lm.shape[1]):\n",
    "    events.append(prd.CoincidenceEvent(detector_1_id=int(lm[0,i]), detector_2_id=int(lm[1,i])))\n",
    "time_block = prd.TimeBlock(id=0, prompt_events=events)\n",
    "\n",
    "with prd.BinaryPrdExperimentWriter('data.bin') as writer:\n",
    "    writer.write_header(prd.Header(scanner=scanner_information))\n",
    "    writer.write_time_blocks(\n",
    "        (time_block,)\n",
    "    )\n"
   ]
  },
  {
   "cell_type": "code",
   "execution_count": null,
   "metadata": {},
   "outputs": [],
   "source": [
    "from io import BytesIO\n",
    "with open('data.bin', 'rb') as f:\n",
    "    data = f.read()\n",
    "    print(len(data))\n",
    "    with prd.BinaryPrdExperimentReader(BytesIO(data)) as reader:\n",
    "        # Read header, get number of detectors\n",
    "        header = reader.read_header()\n",
    "        N_detectors = len(header.scanner.detectors)\n",
    "        idx_coord_lookup_2_electric_boogaloo = xp.zeros((N_detectors, 3))\n",
    "        for i in range(N_detectors):\n",
    "            idx_coord_lookup_2_electric_boogaloo[i, 0] = header.scanner.detectors[i].x\n",
    "            idx_coord_lookup_2_electric_boogaloo[i, 1] = header.scanner.detectors[i].y\n",
    "            idx_coord_lookup_2_electric_boogaloo[i, 2] = header.scanner.detectors[i].z\n",
    "        # Read time blocks\n",
    "        lm_2_electric_boogaloo = []\n",
    "        for time_blocks in reader.read_time_blocks():\n",
    "            for event in time_blocks.prompt_events:\n",
    "                prompt = [event.detector_1_id, event.detector_2_id]\n",
    "                lm_2_electric_boogaloo.append(prompt)\n",
    "\n",
    "        lm_2_electric_boogaloo = xp.array(lm_2_electric_boogaloo).T\n"
   ]
  },
  {
   "cell_type": "code",
   "execution_count": null,
   "metadata": {},
   "outputs": [],
   "source": [
    "\n",
    "start_detector = idx_coord_lookup_2_electric_boogaloo[lm_2_electric_boogaloo[0]]\n",
    "end_detector = idx_coord_lookup_2_electric_boogaloo[lm_2_electric_boogaloo[1]]\n",
    "img_2_electric_boogaloo = parallelproj.joseph3d_back(\n",
    "            start_detector,\n",
    "            end_detector,\n",
    "            image_shape,\n",
    "            image_origin,\n",
    "            voxel_size,\n",
    "            xp.ones(start_detector.shape[0], dtype=xp.float32),\n",
    "        )\n",
    "plt.imshow(img_2_electric_boogaloo[0])\n"
   ]
  },
  {
   "cell_type": "code",
   "execution_count": null,
   "metadata": {},
   "outputs": [],
   "source": [
    "fig, axs = plt.subplots(1, 3, figsize=(15, 5))\n",
    "fig.colorbar(axs[0].imshow(img[0]), ax=axs[0])\n",
    "fig.colorbar(axs[1].imshow(img_2_electric_boogaloo[0]), ax=axs[1])\n",
    "# difference\n",
    "fig.colorbar(axs[2].imshow(img[0] - img_2_electric_boogaloo[0]), ax=axs[2])\n",
    "plt.show()\n"
   ]
  }
 ],
 "metadata": {
  "kernelspec": {
   "display_name": "prd",
   "language": "python",
   "name": "python3"
  },
  "language_info": {
   "codemirror_mode": {
    "name": "ipython",
    "version": 3
   },
   "file_extension": ".py",
   "mimetype": "text/x-python",
   "name": "python",
   "nbconvert_exporter": "python",
   "pygments_lexer": "ipython3",
   "version": "3.12.0"
  }
 },
 "nbformat": 4,
 "nbformat_minor": 2
}
